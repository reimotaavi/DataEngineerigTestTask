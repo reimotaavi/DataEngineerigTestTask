{
 "cells": [
  {
   "cell_type": "code",
   "execution_count": null,
   "id": "a1d3e00a",
   "metadata": {
    "scrolled": true
   },
   "outputs": [
    {
     "name": "stdout",
     "output_type": "stream",
     "text": [
      " * Serving Flask app \"__main__\" (lazy loading)\n",
      " * Environment: production\n",
      "\u001b[31m   WARNING: This is a development server. Do not use it in a production deployment.\u001b[0m\n",
      "\u001b[2m   Use a production WSGI server instead.\u001b[0m\n",
      " * Debug mode: off\n"
     ]
    },
    {
     "name": "stderr",
     "output_type": "stream",
     "text": [
      " * Running on http://127.0.0.1:5000/ (Press CTRL+C to quit)\n",
      "127.0.0.1 - - [09/Feb/2022 16:10:13] \"GET / HTTP/1.1\" 200 -\n",
      "127.0.0.1 - - [09/Feb/2022 16:10:19] \"GET / HTTP/1.1\" 200 -\n",
      "127.0.0.1 - - [09/Feb/2022 16:15:48] \"GET / HTTP/1.1\" 200 -\n",
      "127.0.0.1 - - [09/Feb/2022 16:15:57] \"GET / HTTP/1.1\" 200 -\n",
      "127.0.0.1 - - [09/Feb/2022 16:16:16] \"GET / HTTP/1.1\" 200 -\n"
     ]
    }
   ],
   "source": [
    "from flask import Flask\n",
    "import sqlite3\n",
    "import pandas as pd\n",
    "app = Flask(__name__)\n",
    "\n",
    "@app.route('/')\n",
    "def get():\n",
    "    #connecting to the database\n",
    "    connection = sqlite3.connect('keyboards.db')\n",
    "    c = connection.cursor()\n",
    "    #getting data from it\n",
    "    data = c.execute(\"SELECT * FROM keyboards\")\n",
    "        \n",
    "    #create empty list\n",
    "    output = []\n",
    "     \n",
    "    #putting the data, I want to show, to the list\n",
    "    for keyboard in data:\n",
    "        keyboard_info = {\n",
    "            'name': keyboard[0],\n",
    "            'current price': keyboard[1],\n",
    "            'discount percentage': keyboard[3],\n",
    "            'link': keyboard[4]}\n",
    "        \n",
    "        output.append(keyboard_info)\n",
    "     \n",
    "    return {\"keyboards\": output}\n",
    "    \n",
    "app.run()"
   ]
  },
  {
   "cell_type": "code",
   "execution_count": null,
   "id": "0fa2091c",
   "metadata": {},
   "outputs": [],
   "source": []
  }
 ],
 "metadata": {
  "kernelspec": {
   "display_name": "Python 3 (ipykernel)",
   "language": "python",
   "name": "python3"
  },
  "language_info": {
   "codemirror_mode": {
    "name": "ipython",
    "version": 3
   },
   "file_extension": ".py",
   "mimetype": "text/x-python",
   "name": "python",
   "nbconvert_exporter": "python",
   "pygments_lexer": "ipython3",
   "version": "3.9.7"
  }
 },
 "nbformat": 4,
 "nbformat_minor": 5
}
